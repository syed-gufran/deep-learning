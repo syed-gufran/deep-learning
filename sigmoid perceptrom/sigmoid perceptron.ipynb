{
 "cells": [
  {
   "cell_type": "code",
   "execution_count": 1,
   "id": "1e975594-ddfc-44e8-a6b0-fa08ccb53e13",
   "metadata": {},
   "outputs": [],
   "source": [
    "import numpy as np"
   ]
  },
  {
   "cell_type": "code",
   "execution_count": 2,
   "id": "f17baf7c-3fa2-49f5-8bab-5a87fba2cc72",
   "metadata": {},
   "outputs": [],
   "source": [
    "from SigmoidPerceptron import SigmoidPerceptron\n",
    "# class SigmoidPerceptron():\n",
    "\n",
    "#     def __init__(self ,input_size):\n",
    "\n",
    "#         self.weight = np.random.randn(input_size)\n",
    "#         self.bias = np.random.randn(1) \n",
    "    \n",
    "#     def sigmoid(self , z):\n",
    "#         return 1/(1+np.exp(-z))\n",
    "\n",
    "#     def predict(self,inputs):\n",
    "#         weighted_sum =np.dot(inputs,self.weight)+self.bias\n",
    "#         return self.sigmoid(weighted_sum)\n",
    "\n",
    "#     def fit(self,inputs , targets ,learning_rate ,num_epochs):\n",
    "\n",
    "#         num_examples= inputs.shape[0]\n",
    "    \n",
    "#         for epoch in range(num_epochs):\n",
    "#             for i in range(num_examples):\n",
    "#                 input_vector = inputs[i]\n",
    "#                 target = targets[i]\n",
    "#                 prediction = self.predict(input_vector)\n",
    "#                 error = target -prediction\n",
    "    \n",
    "#                 gradient_weight = error*prediction *(1 - prediction)*input_vector\n",
    "#                 self.weight += learning_rate*gradient_weight\n",
    "    \n",
    "#                 gradient_bias = error*prediction*(1-prediction)\n",
    "#                 self.bias += learning_rate * gradient_bias\n",
    "\n",
    "\n",
    "#     def evaluate(self , inputs , targets):\n",
    "#         correct =0 \n",
    "#         for input_vector , target in zip(inputs, targets):\n",
    "#             prediction = self.predict(input_vector)\n",
    "\n",
    "#             if prediction>=0.5:\n",
    "#                 predicted_class =1\n",
    "#             else:\n",
    "#                 predicted_class = 0\n",
    "\n",
    "#             if predicted_class==target:\n",
    "#                 correct+=1\n",
    "\n",
    "#         accuracy =  correct/len(targets)\n",
    "#         return accuracy "
   ]
  },
  {
   "cell_type": "code",
   "execution_count": 3,
   "id": "ac8195eb-6d6c-4786-8ab7-097f81e570b8",
   "metadata": {},
   "outputs": [],
   "source": [
    "import pandas as pd\n",
    "from sklearn.model_selection import train_test_split\n",
    "from sklearn.preprocessing import StandardScaler\n"
   ]
  },
  {
   "cell_type": "code",
   "execution_count": 4,
   "id": "159ae4b4-3420-4d1f-9cce-85a3e508b46b",
   "metadata": {},
   "outputs": [],
   "source": [
    "df = pd.read_csv(\"diabetes.csv\")"
   ]
  },
  {
   "cell_type": "code",
   "execution_count": 5,
   "id": "2e01df88-a910-450b-853f-a4a26e0be4b2",
   "metadata": {},
   "outputs": [
    {
     "data": {
      "text/html": [
       "<div>\n",
       "<style scoped>\n",
       "    .dataframe tbody tr th:only-of-type {\n",
       "        vertical-align: middle;\n",
       "    }\n",
       "\n",
       "    .dataframe tbody tr th {\n",
       "        vertical-align: top;\n",
       "    }\n",
       "\n",
       "    .dataframe thead th {\n",
       "        text-align: right;\n",
       "    }\n",
       "</style>\n",
       "<table border=\"1\" class=\"dataframe\">\n",
       "  <thead>\n",
       "    <tr style=\"text-align: right;\">\n",
       "      <th></th>\n",
       "      <th>Pregnancies</th>\n",
       "      <th>Glucose</th>\n",
       "      <th>BloodPressure</th>\n",
       "      <th>SkinThickness</th>\n",
       "      <th>Insulin</th>\n",
       "      <th>BMI</th>\n",
       "      <th>DiabetesPedigreeFunction</th>\n",
       "      <th>Age</th>\n",
       "      <th>Outcome</th>\n",
       "    </tr>\n",
       "  </thead>\n",
       "  <tbody>\n",
       "    <tr>\n",
       "      <th>0</th>\n",
       "      <td>6</td>\n",
       "      <td>148</td>\n",
       "      <td>72</td>\n",
       "      <td>35</td>\n",
       "      <td>0</td>\n",
       "      <td>33.6</td>\n",
       "      <td>0.627</td>\n",
       "      <td>50</td>\n",
       "      <td>1</td>\n",
       "    </tr>\n",
       "    <tr>\n",
       "      <th>1</th>\n",
       "      <td>1</td>\n",
       "      <td>85</td>\n",
       "      <td>66</td>\n",
       "      <td>29</td>\n",
       "      <td>0</td>\n",
       "      <td>26.6</td>\n",
       "      <td>0.351</td>\n",
       "      <td>31</td>\n",
       "      <td>0</td>\n",
       "    </tr>\n",
       "    <tr>\n",
       "      <th>2</th>\n",
       "      <td>8</td>\n",
       "      <td>183</td>\n",
       "      <td>64</td>\n",
       "      <td>0</td>\n",
       "      <td>0</td>\n",
       "      <td>23.3</td>\n",
       "      <td>0.672</td>\n",
       "      <td>32</td>\n",
       "      <td>1</td>\n",
       "    </tr>\n",
       "    <tr>\n",
       "      <th>3</th>\n",
       "      <td>1</td>\n",
       "      <td>89</td>\n",
       "      <td>66</td>\n",
       "      <td>23</td>\n",
       "      <td>94</td>\n",
       "      <td>28.1</td>\n",
       "      <td>0.167</td>\n",
       "      <td>21</td>\n",
       "      <td>0</td>\n",
       "    </tr>\n",
       "    <tr>\n",
       "      <th>4</th>\n",
       "      <td>0</td>\n",
       "      <td>137</td>\n",
       "      <td>40</td>\n",
       "      <td>35</td>\n",
       "      <td>168</td>\n",
       "      <td>43.1</td>\n",
       "      <td>2.288</td>\n",
       "      <td>33</td>\n",
       "      <td>1</td>\n",
       "    </tr>\n",
       "  </tbody>\n",
       "</table>\n",
       "</div>"
      ],
      "text/plain": [
       "   Pregnancies  Glucose  BloodPressure  SkinThickness  Insulin   BMI  \\\n",
       "0            6      148             72             35        0  33.6   \n",
       "1            1       85             66             29        0  26.6   \n",
       "2            8      183             64              0        0  23.3   \n",
       "3            1       89             66             23       94  28.1   \n",
       "4            0      137             40             35      168  43.1   \n",
       "\n",
       "   DiabetesPedigreeFunction  Age  Outcome  \n",
       "0                     0.627   50        1  \n",
       "1                     0.351   31        0  \n",
       "2                     0.672   32        1  \n",
       "3                     0.167   21        0  \n",
       "4                     2.288   33        1  "
      ]
     },
     "execution_count": 5,
     "metadata": {},
     "output_type": "execute_result"
    }
   ],
   "source": [
    "df.head()"
   ]
  },
  {
   "cell_type": "code",
   "execution_count": 6,
   "id": "608900c1-cb60-45e3-87cd-ec3ae15b3ac2",
   "metadata": {},
   "outputs": [
    {
     "data": {
      "text/plain": [
       "Outcome\n",
       "0    500\n",
       "1    268\n",
       "Name: count, dtype: int64"
      ]
     },
     "execution_count": 6,
     "metadata": {},
     "output_type": "execute_result"
    }
   ],
   "source": [
    "df['Outcome'].value_counts()"
   ]
  },
  {
   "cell_type": "code",
   "execution_count": 7,
   "id": "5d744851-2a00-4134-98ab-f26059b97183",
   "metadata": {},
   "outputs": [],
   "source": [
    "class_0_df = df[df['Outcome']==0]\n",
    "class_1_df = df[df['Outcome']==1]\n",
    "\n",
    "class_0_df = class_0_df.sample(268)\n",
    "\n",
    "data = pd.concat([class_0_df,class_1_df])"
   ]
  },
  {
   "cell_type": "code",
   "execution_count": 8,
   "id": "6b596037-9709-428a-9c99-5c0c6db1fca3",
   "metadata": {},
   "outputs": [
    {
     "data": {
      "text/html": [
       "<div>\n",
       "<style scoped>\n",
       "    .dataframe tbody tr th:only-of-type {\n",
       "        vertical-align: middle;\n",
       "    }\n",
       "\n",
       "    .dataframe tbody tr th {\n",
       "        vertical-align: top;\n",
       "    }\n",
       "\n",
       "    .dataframe thead th {\n",
       "        text-align: right;\n",
       "    }\n",
       "</style>\n",
       "<table border=\"1\" class=\"dataframe\">\n",
       "  <thead>\n",
       "    <tr style=\"text-align: right;\">\n",
       "      <th></th>\n",
       "      <th>Pregnancies</th>\n",
       "      <th>Glucose</th>\n",
       "      <th>BloodPressure</th>\n",
       "      <th>SkinThickness</th>\n",
       "      <th>Insulin</th>\n",
       "      <th>BMI</th>\n",
       "      <th>DiabetesPedigreeFunction</th>\n",
       "      <th>Age</th>\n",
       "      <th>Outcome</th>\n",
       "    </tr>\n",
       "  </thead>\n",
       "  <tbody>\n",
       "    <tr>\n",
       "      <th>609</th>\n",
       "      <td>1</td>\n",
       "      <td>111</td>\n",
       "      <td>62</td>\n",
       "      <td>13</td>\n",
       "      <td>182</td>\n",
       "      <td>24.0</td>\n",
       "      <td>0.138</td>\n",
       "      <td>23</td>\n",
       "      <td>0</td>\n",
       "    </tr>\n",
       "    <tr>\n",
       "      <th>509</th>\n",
       "      <td>8</td>\n",
       "      <td>120</td>\n",
       "      <td>78</td>\n",
       "      <td>0</td>\n",
       "      <td>0</td>\n",
       "      <td>25.0</td>\n",
       "      <td>0.409</td>\n",
       "      <td>64</td>\n",
       "      <td>0</td>\n",
       "    </tr>\n",
       "    <tr>\n",
       "      <th>105</th>\n",
       "      <td>1</td>\n",
       "      <td>126</td>\n",
       "      <td>56</td>\n",
       "      <td>29</td>\n",
       "      <td>152</td>\n",
       "      <td>28.7</td>\n",
       "      <td>0.801</td>\n",
       "      <td>21</td>\n",
       "      <td>0</td>\n",
       "    </tr>\n",
       "    <tr>\n",
       "      <th>543</th>\n",
       "      <td>4</td>\n",
       "      <td>84</td>\n",
       "      <td>90</td>\n",
       "      <td>23</td>\n",
       "      <td>56</td>\n",
       "      <td>39.5</td>\n",
       "      <td>0.159</td>\n",
       "      <td>25</td>\n",
       "      <td>0</td>\n",
       "    </tr>\n",
       "    <tr>\n",
       "      <th>205</th>\n",
       "      <td>5</td>\n",
       "      <td>111</td>\n",
       "      <td>72</td>\n",
       "      <td>28</td>\n",
       "      <td>0</td>\n",
       "      <td>23.9</td>\n",
       "      <td>0.407</td>\n",
       "      <td>27</td>\n",
       "      <td>0</td>\n",
       "    </tr>\n",
       "  </tbody>\n",
       "</table>\n",
       "</div>"
      ],
      "text/plain": [
       "     Pregnancies  Glucose  BloodPressure  SkinThickness  Insulin   BMI  \\\n",
       "609            1      111             62             13      182  24.0   \n",
       "509            8      120             78              0        0  25.0   \n",
       "105            1      126             56             29      152  28.7   \n",
       "543            4       84             90             23       56  39.5   \n",
       "205            5      111             72             28        0  23.9   \n",
       "\n",
       "     DiabetesPedigreeFunction  Age  Outcome  \n",
       "609                     0.138   23        0  \n",
       "509                     0.409   64        0  \n",
       "105                     0.801   21        0  \n",
       "543                     0.159   25        0  \n",
       "205                     0.407   27        0  "
      ]
     },
     "execution_count": 8,
     "metadata": {},
     "output_type": "execute_result"
    }
   ],
   "source": [
    "data.head()"
   ]
  },
  {
   "cell_type": "code",
   "execution_count": 9,
   "id": "25a600e8-8ef2-46d9-98a1-9a12eb0a30fd",
   "metadata": {},
   "outputs": [
    {
     "data": {
      "text/plain": [
       "Outcome\n",
       "0    268\n",
       "1    268\n",
       "Name: count, dtype: int64"
      ]
     },
     "execution_count": 9,
     "metadata": {},
     "output_type": "execute_result"
    }
   ],
   "source": [
    "data[\"Outcome\"].value_counts()"
   ]
  },
  {
   "cell_type": "code",
   "execution_count": 10,
   "id": "07433cd2-57cd-412d-82d1-49363b8b0e06",
   "metadata": {},
   "outputs": [],
   "source": [
    "X = data.drop('Outcome' , axis=1)\n",
    "X = X.values\n",
    "Y = data[\"Outcome\"]\n",
    "Y = Y.values"
   ]
  },
  {
   "cell_type": "code",
   "execution_count": 11,
   "id": "2c1f6575-e619-4ccf-b79a-77d0533ec640",
   "metadata": {},
   "outputs": [],
   "source": [
    "X_train , X_test ,Y_train , Y_test = train_test_split(X ,Y , random_state=2 , test_size=0.2)"
   ]
  },
  {
   "cell_type": "code",
   "execution_count": 12,
   "id": "4cd15ff2-40c4-4168-a0f8-adc8dfcfe885",
   "metadata": {},
   "outputs": [],
   "source": [
    "sc = StandardScaler()\n",
    "X_train = sc.fit_transform(X_train)\n",
    "X_test = sc.transform(X_test)"
   ]
  },
  {
   "cell_type": "code",
   "execution_count": 13,
   "id": "a6d32015-cedb-49c2-8ed7-07d567e49aad",
   "metadata": {},
   "outputs": [
    {
     "data": {
      "text/plain": [
       "1.0000000000000004"
      ]
     },
     "execution_count": 13,
     "metadata": {},
     "output_type": "execute_result"
    }
   ],
   "source": [
    "X_train.std()"
   ]
  },
  {
   "cell_type": "code",
   "execution_count": 14,
   "id": "f2f7c471-0ce8-4081-a5b2-8b149c0c9af4",
   "metadata": {},
   "outputs": [],
   "source": [
    "model = SigmoidPerceptron(input_size=X_train.shape[1])"
   ]
  },
  {
   "cell_type": "code",
   "execution_count": 15,
   "id": "40673329-c772-40ea-a1da-28f6b06697fa",
   "metadata": {},
   "outputs": [],
   "source": [
    "model.fit(X_train , Y_train , learning_rate=0.1 , num_epochs=1000)"
   ]
  },
  {
   "cell_type": "code",
   "execution_count": 16,
   "id": "a7f32fc6-1330-4f3c-af26-1914b658c68e",
   "metadata": {},
   "outputs": [
    {
     "data": {
      "text/plain": [
       "0.7266355140186916"
      ]
     },
     "execution_count": 16,
     "metadata": {},
     "output_type": "execute_result"
    }
   ],
   "source": [
    "accuracy = model.evaluate(X_train , Y_train)\n",
    "accuracy"
   ]
  },
  {
   "cell_type": "code",
   "execution_count": 17,
   "id": "777bda21-a8eb-4391-a3a3-7ac1d43fc03b",
   "metadata": {},
   "outputs": [
    {
     "name": "stdout",
     "output_type": "stream",
     "text": [
      "Accuracy on test data  =  80.55555555555556 %\n"
     ]
    }
   ],
   "source": [
    "accuracy = model.evaluate(X_test , Y_test)\n",
    "print(\"Accuracy on test data  = \", accuracy*100 ,\"%\" )"
   ]
  },
  {
   "cell_type": "code",
   "execution_count": null,
   "id": "385b1fd7-9a35-4a9d-b534-59170b9efcd0",
   "metadata": {},
   "outputs": [],
   "source": []
  },
  {
   "cell_type": "code",
   "execution_count": null,
   "id": "8a52599c-40a2-4002-a34d-0c11522d2059",
   "metadata": {},
   "outputs": [],
   "source": []
  }
 ],
 "metadata": {
  "kernelspec": {
   "display_name": "Python [conda env:base] *",
   "language": "python",
   "name": "conda-base-py"
  },
  "language_info": {
   "codemirror_mode": {
    "name": "ipython",
    "version": 3
   },
   "file_extension": ".py",
   "mimetype": "text/x-python",
   "name": "python",
   "nbconvert_exporter": "python",
   "pygments_lexer": "ipython3",
   "version": "3.12.7"
  }
 },
 "nbformat": 4,
 "nbformat_minor": 5
}
