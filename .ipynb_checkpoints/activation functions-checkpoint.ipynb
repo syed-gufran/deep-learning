{
 "cells": [
  {
   "cell_type": "code",
   "execution_count": 1,
   "id": "4562a81b-f315-4d0a-84a2-dbb52e9c55b0",
   "metadata": {},
   "outputs": [],
   "source": [
    "import math"
   ]
  },
  {
   "cell_type": "code",
   "execution_count": 2,
   "id": "e02b7d82-2b43-4117-babe-0c2f0617ee68",
   "metadata": {},
   "outputs": [],
   "source": [
    "def sigmoid(x):\n",
    "    return 1/(1+ math.exp(-x))"
   ]
  },
  {
   "cell_type": "code",
   "execution_count": 3,
   "id": "dc685049-4b2b-491e-a114-d7be4bacfb43",
   "metadata": {},
   "outputs": [
    {
     "data": {
      "text/plain": [
       "0.8807970779778823"
      ]
     },
     "execution_count": 3,
     "metadata": {},
     "output_type": "execute_result"
    }
   ],
   "source": [
    "sigmoid(2)"
   ]
  },
  {
   "cell_type": "code",
   "execution_count": 4,
   "id": "46871bd3-c12d-4ab4-a11b-9066961f3f7e",
   "metadata": {},
   "outputs": [],
   "source": [
    "def ReLu(x):\n",
    "    return max(0,x)"
   ]
  },
  {
   "cell_type": "code",
   "execution_count": 5,
   "id": "510d1f39-7d42-4186-9c2f-cbcfebbff59f",
   "metadata": {},
   "outputs": [
    {
     "data": {
      "text/plain": [
       "2"
      ]
     },
     "execution_count": 5,
     "metadata": {},
     "output_type": "execute_result"
    }
   ],
   "source": [
    "ReLu(2)"
   ]
  },
  {
   "cell_type": "code",
   "execution_count": 6,
   "id": "38c46d20-bea2-4418-a733-a1d1cf149f84",
   "metadata": {},
   "outputs": [],
   "source": [
    "def tanh(x):\n",
    "    return (math.exp(x)- math.exp(-x))/(math.exp(x)+ math.exp(-x))"
   ]
  },
  {
   "cell_type": "code",
   "execution_count": 9,
   "id": "08d90277-dc2d-4f3f-bebc-8adc29a12af7",
   "metadata": {},
   "outputs": [
    {
     "data": {
      "text/plain": [
       "-1.0"
      ]
     },
     "execution_count": 9,
     "metadata": {},
     "output_type": "execute_result"
    }
   ],
   "source": [
    "tanh(-100)"
   ]
  },
  {
   "cell_type": "code",
   "execution_count": 22,
   "id": "8c018860-66e5-4cb3-aebf-ce2b9274e631",
   "metadata": {},
   "outputs": [],
   "source": [
    "def softmax(x):\n",
    "    exp_x = [math.exp(i) for i in x]\n",
    "    sum_exp = sum(exp_x)\n",
    "    return [i/sum_exp for i in exp_x]"
   ]
  },
  {
   "cell_type": "code",
   "execution_count": 23,
   "id": "d10b16a6-5600-4b98-88f5-71b493639a70",
   "metadata": {},
   "outputs": [
    {
     "name": "stdout",
     "output_type": "stream",
     "text": [
      "[0.26538792877224193, 0.013212886953789416, 0.7213991842739687]\n"
     ]
    }
   ],
   "source": [
    "op = softmax([2,-1,3])\n",
    "print(op)"
   ]
  },
  {
   "cell_type": "code",
   "execution_count": null,
   "id": "24af6574-3e06-4213-a154-38d2c72b3fa8",
   "metadata": {},
   "outputs": [],
   "source": []
  }
 ],
 "metadata": {
  "kernelspec": {
   "display_name": "Python [conda env:base] *",
   "language": "python",
   "name": "conda-base-py"
  },
  "language_info": {
   "codemirror_mode": {
    "name": "ipython",
    "version": 3
   },
   "file_extension": ".py",
   "mimetype": "text/x-python",
   "name": "python",
   "nbconvert_exporter": "python",
   "pygments_lexer": "ipython3",
   "version": "3.12.7"
  }
 },
 "nbformat": 4,
 "nbformat_minor": 5
}
