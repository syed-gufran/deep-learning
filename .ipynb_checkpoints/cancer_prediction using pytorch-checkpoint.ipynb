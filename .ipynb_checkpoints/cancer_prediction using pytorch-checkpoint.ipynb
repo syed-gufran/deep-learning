{
 "cells": [
  {
   "cell_type": "code",
   "execution_count": 59,
   "id": "10ecc17f-410f-4b2c-874b-9dd051eec0b8",
   "metadata": {},
   "outputs": [],
   "source": [
    "import torch\n",
    "import torch.nn as nn\n",
    "import torch.optim as optim\n",
    "from sklearn.datasets import load_breast_cancer\n",
    "from sklearn.model_selection import train_test_split\n",
    "from sklearn.preprocessing import StandardScaler"
   ]
  },
  {
   "cell_type": "code",
   "execution_count": 60,
   "id": "3064349a-9caf-4e12-88f4-df4c5f9df85e",
   "metadata": {},
   "outputs": [],
   "source": [
    "device = torch.device(\"cuda\" if torch.cuda.is_available() else \"cpu\")"
   ]
  },
  {
   "cell_type": "code",
   "execution_count": 61,
   "id": "0b1058b3-df10-4f38-8ecf-cfae03edfa31",
   "metadata": {},
   "outputs": [
    {
     "data": {
      "text/plain": [
       "device(type='cpu')"
      ]
     },
     "execution_count": 61,
     "metadata": {},
     "output_type": "execute_result"
    }
   ],
   "source": [
    "device"
   ]
  },
  {
   "cell_type": "code",
   "execution_count": 62,
   "id": "9f517fc5-0c9c-4075-abf4-8fd01145cc2a",
   "metadata": {},
   "outputs": [],
   "source": [
    "data = load_breast_cancer()"
   ]
  },
  {
   "cell_type": "code",
   "execution_count": 63,
   "id": "205083db-3e1e-4d57-b771-104bcabc60b4",
   "metadata": {},
   "outputs": [],
   "source": [
    "X = data.data\n",
    "Y= data.target"
   ]
  },
  {
   "cell_type": "code",
   "execution_count": 64,
   "id": "62aaa920-d6cd-4ac1-bb3e-9a0bed3d50bd",
   "metadata": {},
   "outputs": [],
   "source": [
    "X_train , X_test , Y_train , Y_test = train_test_split(X, Y , test_size=0.2 , random_state=45)"
   ]
  },
  {
   "cell_type": "code",
   "execution_count": 65,
   "id": "c7be3c0a-4ddd-4f80-a1c6-237a7650f16f",
   "metadata": {},
   "outputs": [
    {
     "data": {
      "text/plain": [
       "((455, 30), (114, 30))"
      ]
     },
     "execution_count": 65,
     "metadata": {},
     "output_type": "execute_result"
    }
   ],
   "source": [
    "X_train.shape , X_test.shape"
   ]
  },
  {
   "cell_type": "code",
   "execution_count": 66,
   "id": "0ed2ffbe-ac6f-4355-98da-cb18bd4e625c",
   "metadata": {},
   "outputs": [],
   "source": [
    "sc = StandardScaler()\n",
    "X_train = sc.fit_transform(X_train)\n",
    "X_test = sc.transform(X_test)"
   ]
  },
  {
   "cell_type": "code",
   "execution_count": 67,
   "id": "5ee90025-618e-49a0-9bd4-cfdc82494201",
   "metadata": {},
   "outputs": [
    {
     "data": {
      "text/plain": [
       "numpy.ndarray"
      ]
     },
     "execution_count": 67,
     "metadata": {},
     "output_type": "execute_result"
    }
   ],
   "source": [
    "type(X_train)"
   ]
  },
  {
   "cell_type": "code",
   "execution_count": 68,
   "id": "f62d7386-ec26-4b55-8433-4bf8e9d005b4",
   "metadata": {},
   "outputs": [],
   "source": [
    "X_train = torch.tensor(X_train , dtype= torch.float32)\n",
    "X_test = torch.tensor(X_test  , dtype= torch.float32)\n",
    "Y_train = torch.tensor(Y_train , dtype= torch.float32)\n",
    "Y_test = torch.tensor(Y_test , dtype= torch.float32)"
   ]
  },
  {
   "cell_type": "code",
   "execution_count": 69,
   "id": "053b6198-5a93-4f12-80a8-7b81e89fcce2",
   "metadata": {},
   "outputs": [],
   "source": [
    " class NeuralNet(nn.Module):\n",
    "\n",
    "    def __init__(self ,input_size ,hidden_size , output_size):\n",
    "         super(NeuralNet , self).__init__()\n",
    "         self.fc1 = nn.Linear(input_size , hidden_size)\n",
    "         self.relu = nn.ReLU()\n",
    "         self.fc2 = nn.Linear(hidden_size ,output_size)\n",
    "         self.sigmoid = nn.Sigmoid() \n",
    "    \n",
    "\n",
    "    def forward(self,x):\n",
    "        out = self.fc1(x)\n",
    "        out = self.relu(out)\n",
    "        out = self.fc2(out)\n",
    "        out = self.sigmoid(out)\n",
    "        return out\n",
    "         "
   ]
  },
  {
   "cell_type": "code",
   "execution_count": 70,
   "id": "86c21cd7-f2d5-4a14-8065-1bf0ae8d56aa",
   "metadata": {},
   "outputs": [],
   "source": [
    "input_size = X_train.shape[1]\n",
    "hideen_size = 64\n",
    "output_size = 1\n",
    "learning_rate = 0.01\n",
    "num_epochs = 100"
   ]
  },
  {
   "cell_type": "code",
   "execution_count": 71,
   "id": "79b0a980-986b-4539-a686-557b625beee0",
   "metadata": {},
   "outputs": [],
   "source": [
    "model = NeuralNet(input_size,hideen_size ,output_size)"
   ]
  },
  {
   "cell_type": "code",
   "execution_count": 72,
   "id": "ba572a68-2602-4fc1-8027-8e3d6d5f391c",
   "metadata": {},
   "outputs": [],
   "source": [
    "criterion = nn.BCELoss()\n",
    "optimizer = optim.Adam(model.parameters(), lr = learning_rate)"
   ]
  },
  {
   "cell_type": "code",
   "execution_count": 74,
   "id": "824c4234-eb42-4902-a5a3-52f2fca994cc",
   "metadata": {},
   "outputs": [
    {
     "name": "stdout",
     "output_type": "stream",
     "text": [
      "Epoch [10/100], Loss : 0.1165 , Accuracy : 95.38 %\n",
      "Epoch [20/100], Loss : 0.0625 , Accuracy : 98.02 %\n",
      "Epoch [30/100], Loss : 0.0468 , Accuracy : 98.24 %\n",
      "Epoch [40/100], Loss : 0.0358 , Accuracy : 98.68 %\n",
      "Epoch [50/100], Loss : 0.0288 , Accuracy : 98.90 %\n",
      "Epoch [60/100], Loss : 0.0238 , Accuracy : 99.12 %\n",
      "Epoch [70/100], Loss : 0.0199 , Accuracy : 99.12 %\n",
      "Epoch [80/100], Loss : 0.0166 , Accuracy : 99.56 %\n",
      "Epoch [90/100], Loss : 0.0139 , Accuracy : 99.56 %\n",
      "Epoch [100/100], Loss : 0.0116 , Accuracy : 99.56 %\n"
     ]
    }
   ],
   "source": [
    "for epoch in range(num_epochs):\n",
    "    model.train()\n",
    "    optimizer.zero_grad()\n",
    "    outputs = model(X_train)\n",
    "    loss = criterion(outputs , Y_train.view(-1,1))\n",
    "    loss.backward()\n",
    "    optimizer.step()\n",
    "\n",
    "    with torch.no_grad():\n",
    "        predicted = outputs.round()\n",
    "        correct = (predicted == Y_train.view(-1,1)).float().sum()\n",
    "        accuracy = correct/Y_train.size(0)\n",
    "\n",
    "    if (epoch+1) % 10 ==0:\n",
    "        print(f\"Epoch [{epoch+1}/{num_epochs}], Loss : {loss.item():.4f} , Accuracy : {accuracy.item()*100:.2f} %\" )"
   ]
  },
  {
   "cell_type": "code",
   "execution_count": 75,
   "id": "51990fe6-5d22-48ce-8598-5677b65838d3",
   "metadata": {},
   "outputs": [
    {
     "name": "stdout",
     "output_type": "stream",
     "text": [
      "Accuracy on Training : 99.78%\n"
     ]
    }
   ],
   "source": [
    "model.eval()\n",
    "with torch.no_grad():\n",
    "    outputs = model(X_train)\n",
    "    predicted = outputs.round()\n",
    "    correct = (predicted == Y_train.view(-1,1)).float().sum()\n",
    "    accuracy = correct/Y_train.size(0)\n",
    "    print(f\"Accuracy on Training : {accuracy.item()*100:.2f}%\")"
   ]
  },
  {
   "cell_type": "code",
   "execution_count": null,
   "id": "c34b01f8-a7fd-47ad-81bf-096924040b17",
   "metadata": {},
   "outputs": [],
   "source": [
    "model.eval()\n",
    "with torch.no_grad():\n",
    "    outputs = model(X_te)\n",
    "    predicted = outputs.round()\n",
    "    correct = (predicted == Y_train.view(-1,1)).float().sum()\n",
    "    accuracy = correct/Y_train.size(0)\n",
    "    print(f\"Accuracy on Training : {accuracy.item()*100:.2f}%\")"
   ]
  }
 ],
 "metadata": {
  "kernelspec": {
   "display_name": "Python [conda env:base] *",
   "language": "python",
   "name": "conda-base-py"
  },
  "language_info": {
   "codemirror_mode": {
    "name": "ipython",
    "version": 3
   },
   "file_extension": ".py",
   "mimetype": "text/x-python",
   "name": "python",
   "nbconvert_exporter": "python",
   "pygments_lexer": "ipython3",
   "version": "3.12.7"
  }
 },
 "nbformat": 4,
 "nbformat_minor": 5
}
